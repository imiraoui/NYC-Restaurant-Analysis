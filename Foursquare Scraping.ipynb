{
 "cells": [
  {
   "cell_type": "code",
   "execution_count": 6,
   "metadata": {},
   "outputs": [],
   "source": [
    "import requests\n",
    "import pandas as pd\n",
    "import numpy as np\n",
    "import json\n",
    "import urllib"
   ]
  },
  {
   "cell_type": "markdown",
   "metadata": {},
   "source": [
    "# We create a function to access Foursquare API and store the results in a dataframe and a CSV"
   ]
  },
  {
   "cell_type": "code",
   "execution_count": 2,
   "metadata": {},
   "outputs": [],
   "source": [
    "def places_search(term,street, zipcode):\n",
    "    dict = {\"near\": zipcode,\n",
    "            \"address\": street,\n",
    "            \"query\" :term,\n",
    "            #\"intent\":\"match\",\n",
    "            \"zip\":zipcode,\n",
    "            \"limit\":1,\n",
    "            \"client_id\" : \"\",\n",
    "            \"client_secret\" : \"\",\n",
    "            \"v\" : \"20181122\"\n",
    "           }\n",
    "    params =urllib.parse.urlencode(dict)\n",
    "    url = \"https://api.foursquare.com/v2/venues/search?\"+params\n",
    "    resp = requests.get(url)\n",
    "    #grabbing the JSON result\n",
    "    data = json.loads(resp.text)\n",
    "    \n",
    "    return data\n"
   ]
  },
  {
   "cell_type": "code",
   "execution_count": 15,
   "metadata": {},
   "outputs": [
    {
     "name": "stdout",
     "output_type": "stream",
     "text": [
      "26533\n",
      "26533\n"
     ]
    }
   ],
   "source": [
    "df_restaurant = pd.read_csv(\"restaurants_raw_data_foursquare.csv\")\n",
    "df_restaurant = df_restaurant[df_restaurant[\"dba\"].notnull()]\n",
    "count =1\n",
    "#df_restaurant[\"searched_foursquare\"] = False\n",
    "df_restaurant = df_restaurant.sort_values(by=['searched_foursquare',\"dba\"],ascending = True)\n",
    "print(len(df_restaurant))\n",
    "print(len(df_restaurant[df_restaurant[\"searched_foursquare\"] == True ]))\n",
    "\n",
    "\n",
    "for restau in df_restaurant.index[0:2000]:\n",
    "    if df_restaurant.loc[restau,\"searched_foursquare\"] == False:\n",
    "        jsonData = places_search(str(df_restaurant.loc[restau,\"dba\"]),str(df_restaurant.loc[restau,\"street\"]),str(df_restaurant.loc[restau,\"zipcode\"].astype(int)))\n",
    "        try:\n",
    "            df_restaurant.loc[restau,\"foursquare_id\"] = jsonData[\"response\"][\"venues\"][0][\"id\"]\n",
    "            df_restaurant.loc[restau,\"foursquare_name\"] = jsonData[\"response\"][\"venues\"][0][\"name\"]\n",
    "            df_restaurant.loc[restau,\"foursquare_address\"] = jsonData[\"response\"][\"venues\"][0][\"location\"][\"address\"]\n",
    "            df_restaurant.loc[restau,\"foursquare_lat\"] = jsonData[\"response\"][\"venues\"][0][\"location\"][\"lat\"]\n",
    "            df_restaurant.loc[restau,\"foursquare_lng\"] = jsonData[\"response\"][\"venues\"][0][\"location\"][\"lng\"]\n",
    "            df_restaurant.loc[restau,\"foursquare_category_id\"] = jsonData[\"response\"][\"venues\"][0][\"categories\"][0][\"id\"]\n",
    "            df_restaurant.loc[restau,\"foursquare_category_name\"] = jsonData[\"response\"][\"venues\"][0][\"categories\"][0][\"name\"]\n",
    "            print(count,str(df_restaurant.loc[restau,\"dba\"]),jsonData[\"response\"][\"venues\"][0][\"name\"])\n",
    "        except:\n",
    "            print(\"Foursquare couldn't find!\")\n",
    "        df_restaurant.loc[restau,\"searched_foursquare\"] = True\n",
    "        count = count +1    \n",
    "        df_restaurant.to_csv(\"restaurants_raw_data_foursquare.csv\",index=False)"
   ]
  }
 ],
 "metadata": {
  "kernelspec": {
   "display_name": "Python 3",
   "language": "python",
   "name": "python3"
  },
  "language_info": {
   "codemirror_mode": {
    "name": "ipython",
    "version": 3
   },
   "file_extension": ".py",
   "mimetype": "text/x-python",
   "name": "python",
   "nbconvert_exporter": "python",
   "pygments_lexer": "ipython3",
   "version": "3.6.4"
  }
 },
 "nbformat": 4,
 "nbformat_minor": 2
}
