{
 "cells": [
  {
   "cell_type": "code",
   "execution_count": 3,
   "metadata": {},
   "outputs": [],
   "source": [
    "import pandas as pd\n",
    "import numpy as np\n",
    "from sklearn.model_selection import train_test_split\n",
    "from sklearn.ensemble import RandomForestRegressor"
   ]
  },
  {
   "cell_type": "code",
   "execution_count": 2,
   "metadata": {},
   "outputs": [],
   "source": [
    "df = pd.read_csv(\"raw_data.csv\")\n",
    "df_restaurant = pd.read_csv(\"restaurants_raw_data.csv\")\n",
    "#Keeping only one record for each restaurant\n",
    "df[\"inspection_date_datetime\"] = pd.to_datetime(df[\"inspection_date\"])\n",
    "df = df.sort_values(\"inspection_date_datetime\",ascending=False)\n",
    "df = df.drop_duplicates(\"camis\")\n",
    "df = df[df[\"grade\"].notnull()]\n",
    "df_restaurant = df_restaurant.drop_duplicates([\"dba\",\"street\",\"zipcode\"])\n",
    "df_merged = df.merge(df_restaurant, on=[\"dba\",\"street\",\"zipcode\"],how=\"left\")"
   ]
  },
  {
   "cell_type": "code",
   "execution_count": 4,
   "metadata": {},
   "outputs": [],
   "source": [
    "train, test = train_test_split(df_merged, test_size=0.2, random_state=1)\n",
    "train, validation = train_test_split(train, test_size=0.2, random_state=1)"
   ]
  },
  {
   "cell_type": "code",
   "execution_count": null,
   "metadata": {},
   "outputs": [],
   "source": [
    "# Instantiate model with 1000 decision trees\n",
    "rf = RandomForestRegressor(n_estimators = 1000, random_state = 42)\n",
    "# Train the model on training data\n",
    "rf.fit(train_x, train_y);"
   ]
  }
 ],
 "metadata": {
  "kernelspec": {
   "display_name": "Python 3",
   "language": "python",
   "name": "python3"
  },
  "language_info": {
   "codemirror_mode": {
    "name": "ipython",
    "version": 3
   },
   "file_extension": ".py",
   "mimetype": "text/x-python",
   "name": "python",
   "nbconvert_exporter": "python",
   "pygments_lexer": "ipython3",
   "version": "3.6.4"
  }
 },
 "nbformat": 4,
 "nbformat_minor": 2
}
